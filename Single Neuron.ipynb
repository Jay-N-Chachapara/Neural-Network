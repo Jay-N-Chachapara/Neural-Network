{
 "cells": [
  {
   "cell_type": "code",
   "execution_count": 3,
   "id": "6cc78ae7",
   "metadata": {},
   "outputs": [
    {
     "data": {
      "text/plain": [
       "2.3"
      ]
     },
     "execution_count": 3,
     "metadata": {},
     "output_type": "execute_result"
    }
   ],
   "source": [
    "Input = [1,2,3]\n",
    "Weights = [0.2,0.8,-0.5]\n",
    "bias = 2\n",
    "\n",
    "Output = Input[0]*Weights[0] + Input[1]*Weights[1] + Input[2]*Weights[2] + bias\n",
    "\n",
    "Output"
   ]
  }
 ],
 "metadata": {
  "kernelspec": {
   "display_name": "Python 3 (ipykernel)",
   "language": "python",
   "name": "python3"
  },
  "language_info": {
   "codemirror_mode": {
    "name": "ipython",
    "version": 3
   },
   "file_extension": ".py",
   "mimetype": "text/x-python",
   "name": "python",
   "nbconvert_exporter": "python",
   "pygments_lexer": "ipython3",
   "version": "3.9.7"
  }
 },
 "nbformat": 4,
 "nbformat_minor": 5
}
