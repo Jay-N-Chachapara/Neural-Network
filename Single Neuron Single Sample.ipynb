{
 "cells": [
  {
   "cell_type": "code",
   "execution_count": 1,
   "id": "6cc78ae7",
   "metadata": {},
   "outputs": [
    {
     "data": {
      "text/plain": [
       "2.3"
      ]
     },
     "execution_count": 1,
     "metadata": {},
     "output_type": "execute_result"
    }
   ],
   "source": [
    "Input = [1,2,3]\n",
    "Weights = [0.2,0.8,-0.5]\n",
    "bias = 2\n",
    "\n",
    "Output = Input[0]*Weights[0] + Input[1]*Weights[1] + Input[2]*Weights[2] + bias\n",
    "\n",
    "Output"
   ]
  },
  {
   "cell_type": "markdown",
   "id": "14985261",
   "metadata": {},
   "source": [
    "## Using Numpy"
   ]
  },
  {
   "cell_type": "code",
   "execution_count": 4,
   "id": "dd9177fe",
   "metadata": {},
   "outputs": [],
   "source": [
    "import numpy as np"
   ]
  },
  {
   "cell_type": "code",
   "execution_count": 10,
   "id": "78a9715e",
   "metadata": {},
   "outputs": [
    {
     "data": {
      "text/plain": [
       "2.3"
      ]
     },
     "execution_count": 10,
     "metadata": {},
     "output_type": "execute_result"
    }
   ],
   "source": [
    "np.dot(Weights,Input) + bias"
   ]
  },
  {
   "cell_type": "markdown",
   "id": "e7050496",
   "metadata": {},
   "source": [
    "### Since it is a single dimension array/list the following is also gives the same result\n",
    "### but that is not the case with multidimensional"
   ]
  },
  {
   "cell_type": "code",
   "execution_count": 9,
   "id": "98c093ed",
   "metadata": {},
   "outputs": [
    {
     "data": {
      "text/plain": [
       "2.3"
      ]
     },
     "execution_count": 9,
     "metadata": {},
     "output_type": "execute_result"
    }
   ],
   "source": [
    "np.dot(Input,Weights) + bias"
   ]
  },
  {
   "cell_type": "code",
   "execution_count": null,
   "id": "265c3f16",
   "metadata": {},
   "outputs": [],
   "source": []
  }
 ],
 "metadata": {
  "kernelspec": {
   "display_name": "Python 3 (ipykernel)",
   "language": "python",
   "name": "python3"
  },
  "language_info": {
   "codemirror_mode": {
    "name": "ipython",
    "version": 3
   },
   "file_extension": ".py",
   "mimetype": "text/x-python",
   "name": "python",
   "nbconvert_exporter": "python",
   "pygments_lexer": "ipython3",
   "version": "3.9.7"
  }
 },
 "nbformat": 4,
 "nbformat_minor": 5
}
