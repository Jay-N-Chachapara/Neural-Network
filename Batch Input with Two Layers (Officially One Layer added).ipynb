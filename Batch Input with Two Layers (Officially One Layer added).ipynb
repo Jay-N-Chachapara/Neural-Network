{
 "cells": [
  {
   "cell_type": "code",
   "execution_count": 1,
   "id": "ac3b255f",
   "metadata": {},
   "outputs": [],
   "source": [
    "import numpy as np"
   ]
  },
  {
   "cell_type": "code",
   "execution_count": 2,
   "id": "9079a1c6",
   "metadata": {},
   "outputs": [
    {
     "data": {
      "text/plain": [
       "[[1.0, 2.0, 3.0, 2.5], [2.0, 5.0, -1.0, 2.0], [-1.5, 2.7, 3.3, -0.8]]"
      ]
     },
     "execution_count": 2,
     "metadata": {},
     "output_type": "execute_result"
    }
   ],
   "source": [
    "Inputs = [[1.0,2.0,3.0,2.5],\n",
    "          [2.0,5.0,-1.0,2.0],\n",
    "          [-1.5,2.7,3.3,-0.8]]\n",
    "Inputs"
   ]
  },
  {
   "cell_type": "code",
   "execution_count": 3,
   "id": "6443864f",
   "metadata": {},
   "outputs": [
    {
     "data": {
      "text/plain": [
       "[[0.2, 0.8, -0.5, 1], [0.5, -0.91, 0.26, -0.5], [-0.26, -0.27, 0.17, 0.87]]"
      ]
     },
     "execution_count": 3,
     "metadata": {},
     "output_type": "execute_result"
    }
   ],
   "source": [
    "Weights = [[.2,.8,-.5,1],\n",
    "           [.5,-.91,.26,-.5],\n",
    "           [-.26,-.27,.17,.87]]\n",
    "Weights"
   ]
  },
  {
   "cell_type": "code",
   "execution_count": 4,
   "id": "51f2886e",
   "metadata": {},
   "outputs": [
    {
     "data": {
      "text/plain": [
       "[2, 3, 0.5]"
      ]
     },
     "execution_count": 4,
     "metadata": {},
     "output_type": "execute_result"
    }
   ],
   "source": [
    "Biases = [2,3,.5]\n",
    "Biases"
   ]
  },
  {
   "cell_type": "code",
   "execution_count": 5,
   "id": "1288bd77",
   "metadata": {},
   "outputs": [
    {
     "data": {
      "text/plain": [
       "array([[ 2.8  , -1.79 ,  1.885],\n",
       "       [ 6.9  , -4.81 , -0.3  ],\n",
       "       [-0.59 , -1.949, -0.474]])"
      ]
     },
     "execution_count": 5,
     "metadata": {},
     "output_type": "execute_result"
    }
   ],
   "source": [
    "np.dot(Inputs,np.array(Weights).T)"
   ]
  },
  {
   "cell_type": "code",
   "execution_count": 6,
   "id": "3bf8d536",
   "metadata": {},
   "outputs": [
    {
     "data": {
      "text/plain": [
       "array([[ 4.8  ,  1.21 ,  2.385],\n",
       "       [ 8.9  , -1.81 ,  0.2  ],\n",
       "       [ 1.41 ,  1.051,  0.026]])"
      ]
     },
     "execution_count": 6,
     "metadata": {},
     "output_type": "execute_result"
    }
   ],
   "source": [
    "np.dot(Inputs,np.array(Weights).T) + Biases"
   ]
  },
  {
   "cell_type": "markdown",
   "id": "8b7f91d4",
   "metadata": {},
   "source": [
    "## Now we add another Layer"
   ]
  },
  {
   "cell_type": "code",
   "execution_count": 7,
   "id": "8fd32933",
   "metadata": {},
   "outputs": [
    {
     "data": {
      "text/plain": [
       "[[0.1, -0.14, 0.5], [-0.5, 0.12, -0.33], [-0.44, 0.73, -0.13]]"
      ]
     },
     "execution_count": 7,
     "metadata": {},
     "output_type": "execute_result"
    }
   ],
   "source": [
    "Weights2 = [[0.1,-.14,.5],\n",
    "            [-.5,.12,-.33],\n",
    "            [-.44,.73,-.13]]\n",
    "Weights2"
   ]
  },
  {
   "cell_type": "code",
   "execution_count": 9,
   "id": "6ed1dd72",
   "metadata": {},
   "outputs": [
    {
     "data": {
      "text/plain": [
       "[-1, 2, -0.5]"
      ]
     },
     "execution_count": 9,
     "metadata": {},
     "output_type": "execute_result"
    }
   ],
   "source": [
    "Biases2 = [-1,2,-.5]\n",
    "Biases2"
   ]
  },
  {
   "cell_type": "markdown",
   "id": "2953b5d5",
   "metadata": {},
   "source": [
    "### Input to the layer 2 is output of the layer 1"
   ]
  },
  {
   "cell_type": "code",
   "execution_count": 12,
   "id": "2139ba64",
   "metadata": {},
   "outputs": [
    {
     "data": {
      "text/plain": [
       "array([[ 4.8  ,  1.21 ,  2.385],\n",
       "       [ 8.9  , -1.81 ,  0.2  ],\n",
       "       [ 1.41 ,  1.051,  0.026]])"
      ]
     },
     "execution_count": 12,
     "metadata": {},
     "output_type": "execute_result"
    }
   ],
   "source": [
    "layer2_input = np.dot(Inputs,np.array(Weights).T) + Biases\n",
    "layer2_input"
   ]
  },
  {
   "cell_type": "code",
   "execution_count": 13,
   "id": "3310cf92",
   "metadata": {},
   "outputs": [
    {
     "data": {
      "text/plain": [
       "array([[ 1.5031 , -3.04185, -1.53875],\n",
       "       [ 1.2434 , -4.7332 , -5.2633 ],\n",
       "       [ 0.00686, -0.58746,  0.14345]])"
      ]
     },
     "execution_count": 13,
     "metadata": {},
     "output_type": "execute_result"
    }
   ],
   "source": [
    "np.dot(layer2_input,np.array(Weights2).T)"
   ]
  },
  {
   "cell_type": "code",
   "execution_count": 14,
   "id": "3246cce7",
   "metadata": {},
   "outputs": [
    {
     "data": {
      "text/plain": [
       "array([[ 0.5031 , -1.04185, -2.03875],\n",
       "       [ 0.2434 , -2.7332 , -5.7633 ],\n",
       "       [-0.99314,  1.41254, -0.35655]])"
      ]
     },
     "execution_count": 14,
     "metadata": {},
     "output_type": "execute_result"
    }
   ],
   "source": [
    "np.dot(layer2_input,np.array(Weights2).T) + Biases2"
   ]
  },
  {
   "cell_type": "code",
   "execution_count": null,
   "id": "215ef1c3",
   "metadata": {},
   "outputs": [],
   "source": []
  }
 ],
 "metadata": {
  "kernelspec": {
   "display_name": "Python 3 (ipykernel)",
   "language": "python",
   "name": "python3"
  },
  "language_info": {
   "codemirror_mode": {
    "name": "ipython",
    "version": 3
   },
   "file_extension": ".py",
   "mimetype": "text/x-python",
   "name": "python",
   "nbconvert_exporter": "python",
   "pygments_lexer": "ipython3",
   "version": "3.9.7"
  }
 },
 "nbformat": 4,
 "nbformat_minor": 5
}
