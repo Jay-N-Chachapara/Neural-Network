{
 "cells": [
  {
   "cell_type": "code",
   "execution_count": 1,
   "id": "0f52db7b",
   "metadata": {},
   "outputs": [],
   "source": [
    "import numpy as np"
   ]
  },
  {
   "cell_type": "code",
   "execution_count": 22,
   "id": "f14fd255",
   "metadata": {},
   "outputs": [],
   "source": [
    "np.random.seed(0)"
   ]
  },
  {
   "cell_type": "code",
   "execution_count": 2,
   "id": "1a4aa543",
   "metadata": {},
   "outputs": [
    {
     "data": {
      "text/plain": [
       "[[1.0, 2.0, 3.0, 2.5], [2.0, 5.0, -1.0, 2.0], [-1.5, 2.7, 3.3, -0.8]]"
      ]
     },
     "execution_count": 2,
     "metadata": {},
     "output_type": "execute_result"
    }
   ],
   "source": [
    "X = [[1.0,2.0,3.0,2.5],\n",
    "          [2.0,5.0,-1.0,2.0],\n",
    "          [-1.5,2.7,3.3,-0.8]]\n",
    "X"
   ]
  },
  {
   "cell_type": "markdown",
   "id": "5faa73ca",
   "metadata": {},
   "source": [
    "### Shape of Weight matrix determines the \n",
    "##### 1. Number of neurons in the layer\n",
    "##### 2. How many inputs are comming\n",
    "### Shape : n_inputs X n_neurons\n",
    "##### initially n_inputs is the number of features we gave to the network\n",
    "##### After that in further layer n_input is determined by the output of the previous layer\n",
    "##### n_neurons can be specified by our convinence (based on number of neurons we want in the layer)"
   ]
  },
  {
   "cell_type": "code",
   "execution_count": 23,
   "id": "74539722",
   "metadata": {},
   "outputs": [],
   "source": [
    "class Layer_Dense :\n",
    "    def __init__(self,n_inputs,n_neurons):\n",
    "        self.Weights = 0.10 * np.random.randn(n_inputs,n_neurons)\n",
    "        self.Biases = np.zeros((1,n_neurons))\n",
    "    def forward(self,inputs) :\n",
    "        self.output = np.dot(inputs,self.Weights) + self.Biases"
   ]
  },
  {
   "cell_type": "markdown",
   "id": "880f896e",
   "metadata": {},
   "source": [
    "#### We have four features and we want five neurons in the layer 1 heance parameter pass is 4 and 5"
   ]
  },
  {
   "cell_type": "code",
   "execution_count": 24,
   "id": "d17693a6",
   "metadata": {},
   "outputs": [],
   "source": [
    "layer1 = Layer_Dense(4,5)\n",
    "layer2 = Layer_Dense(5,2)"
   ]
  },
  {
   "cell_type": "code",
   "execution_count": 25,
   "id": "a32ed32a",
   "metadata": {},
   "outputs": [],
   "source": [
    "layer1.forward(X)"
   ]
  },
  {
   "cell_type": "code",
   "execution_count": 26,
   "id": "03806c3f",
   "metadata": {},
   "outputs": [
    {
     "data": {
      "text/plain": [
       "array([[ 0.10758131,  1.03983522,  0.24462411,  0.31821498,  0.18851053],\n",
       "       [-0.08349796,  0.70846411,  0.00293357,  0.44701525,  0.36360538],\n",
       "       [-0.50763245,  0.55688422,  0.07987797, -0.34889573,  0.04553042]])"
      ]
     },
     "execution_count": 26,
     "metadata": {},
     "output_type": "execute_result"
    }
   ],
   "source": [
    "layer1.output"
   ]
  },
  {
   "cell_type": "code",
   "execution_count": 27,
   "id": "90395937",
   "metadata": {},
   "outputs": [],
   "source": [
    "layer2.forward(layer1.output)"
   ]
  },
  {
   "cell_type": "code",
   "execution_count": 28,
   "id": "75213743",
   "metadata": {},
   "outputs": [
    {
     "data": {
      "text/plain": [
       "array([[ 0.148296  , -0.08397602],\n",
       "       [ 0.14100315, -0.01340469],\n",
       "       [ 0.20124979, -0.07290616]])"
      ]
     },
     "execution_count": 28,
     "metadata": {},
     "output_type": "execute_result"
    }
   ],
   "source": [
    "layer2.output"
   ]
  },
  {
   "cell_type": "code",
   "execution_count": null,
   "id": "645e1629",
   "metadata": {},
   "outputs": [],
   "source": []
  },
  {
   "cell_type": "code",
   "execution_count": null,
   "id": "deb19380",
   "metadata": {},
   "outputs": [],
   "source": []
  }
 ],
 "metadata": {
  "kernelspec": {
   "display_name": "Python 3 (ipykernel)",
   "language": "python",
   "name": "python3"
  },
  "language_info": {
   "codemirror_mode": {
    "name": "ipython",
    "version": 3
   },
   "file_extension": ".py",
   "mimetype": "text/x-python",
   "name": "python",
   "nbconvert_exporter": "python",
   "pygments_lexer": "ipython3",
   "version": "3.9.7"
  }
 },
 "nbformat": 4,
 "nbformat_minor": 5
}
