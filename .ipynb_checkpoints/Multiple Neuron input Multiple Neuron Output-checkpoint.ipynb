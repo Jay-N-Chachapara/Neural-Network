{
 "cells": [
  {
   "cell_type": "code",
   "execution_count": 1,
   "id": "dc165bb4",
   "metadata": {},
   "outputs": [
    {
     "data": {
      "text/plain": [
       "[6.3, 4.1000000000000005, 3.69]"
      ]
     },
     "execution_count": 1,
     "metadata": {},
     "output_type": "execute_result"
    }
   ],
   "source": [
    "Input = [1,2,3,4]\n",
    "\n",
    "Weights1 = [.2,.8,-.5,1]\n",
    "Weights2 = [.5,.91,.26,-.5]\n",
    "Weights3 = [-.26,-.27,.17,.87]\n",
    "\n",
    "Bias1 = 2\n",
    "Bias2 = 3\n",
    "Bias3 = 0.5\n",
    "\n",
    "Output = [Input[0]*Weights1[0] + Input[1]*Weights1[1] + Input[2]*Weights1[2] + Input[3]*Weights1[3] + Bias1,\n",
    "          Input[0]*Weights2[0] + Input[1]*Weights2[1] + Input[2]*Weights2[2] + Input[3]*Weights2[3] + Bias2,\n",
    "          Input[0]*Weights3[0] + Input[1]*Weights3[1] + Input[2]*Weights3[2] + Input[3]*Weights3[3] + Bias3]\n",
    "\n",
    "Output"
   ]
  },
  {
   "cell_type": "code",
   "execution_count": null,
   "id": "4a55d975",
   "metadata": {},
   "outputs": [],
   "source": []
  }
 ],
 "metadata": {
  "kernelspec": {
   "display_name": "Python 3 (ipykernel)",
   "language": "python",
   "name": "python3"
  },
  "language_info": {
   "codemirror_mode": {
    "name": "ipython",
    "version": 3
   },
   "file_extension": ".py",
   "mimetype": "text/x-python",
   "name": "python",
   "nbconvert_exporter": "python",
   "pygments_lexer": "ipython3",
   "version": "3.9.7"
  }
 },
 "nbformat": 4,
 "nbformat_minor": 5
}
