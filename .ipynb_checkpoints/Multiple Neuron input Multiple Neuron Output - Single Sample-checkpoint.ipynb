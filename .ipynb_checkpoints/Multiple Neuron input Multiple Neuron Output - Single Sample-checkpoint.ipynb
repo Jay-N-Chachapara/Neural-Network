{
 "cells": [
  {
   "cell_type": "code",
   "execution_count": 1,
   "id": "0caec9af",
   "metadata": {},
   "outputs": [
    {
     "data": {
      "text/plain": [
       "[4.8, 4.85, 2.385]"
      ]
     },
     "execution_count": 1,
     "metadata": {},
     "output_type": "execute_result"
    }
   ],
   "source": [
    "Input = [1,2,3,2.5]\n",
    "\n",
    "Weights1 = [0.2,0.8,-0.5,1]\n",
    "Weights2 = [0.5,0.91,0.26,-0.5]\n",
    "Weights3 = [-0.26,-0.27,0.17,0.87]\n",
    "\n",
    "Bias1 = 2\n",
    "Bias2 = 3\n",
    "Bias3 = 0.5\n",
    "\n",
    "Output = [round(Input[0]*Weights1[0] + Input[1]*Weights1[1] + Input[2]*Weights1[2] + Input[3]*Weights1[3] + Bias1,4),\n",
    "          round(Input[0]*Weights2[0] + Input[1]*Weights2[1] + Input[2]*Weights2[2] + Input[3]*Weights2[3] + Bias2,4),\n",
    "          round(Input[0]*Weights3[0] + Input[1]*Weights3[1] + Input[2]*Weights3[2] + Input[3]*Weights3[3] + Bias3,4)]\n",
    "\n",
    "Output"
   ]
  },
  {
   "cell_type": "markdown",
   "id": "ba303121",
   "metadata": {},
   "source": [
    "## The Loop"
   ]
  },
  {
   "cell_type": "code",
   "execution_count": 2,
   "id": "c69a3795",
   "metadata": {},
   "outputs": [
    {
     "data": {
      "text/plain": [
       "[[0.2, 0.8, -0.5, 1], [0.5, 0.91, 0.26, -0.5], [-0.26, -0.27, 0.17, 0.87]]"
      ]
     },
     "execution_count": 2,
     "metadata": {},
     "output_type": "execute_result"
    }
   ],
   "source": [
    "Weights = [Weights1,Weights2,Weights3]\n",
    "Weights"
   ]
  },
  {
   "cell_type": "code",
   "execution_count": 3,
   "id": "63fea96c",
   "metadata": {},
   "outputs": [
    {
     "data": {
      "text/plain": [
       "[2, 3, 0.5]"
      ]
     },
     "execution_count": 3,
     "metadata": {},
     "output_type": "execute_result"
    }
   ],
   "source": [
    "Bias = [Bias1,Bias2,Bias3]\n",
    "Bias"
   ]
  },
  {
   "cell_type": "code",
   "execution_count": 4,
   "id": "becd9564",
   "metadata": {},
   "outputs": [],
   "source": [
    "layer_output = []"
   ]
  },
  {
   "cell_type": "code",
   "execution_count": 5,
   "id": "25b29de2",
   "metadata": {},
   "outputs": [],
   "source": [
    "for neuron_weight,neuron_bias in zip (Weights,Bias) :\n",
    "    neuron_output = 0\n",
    "    for n_input,weight in zip (Input,neuron_weight) :\n",
    "        neuron_output += n_input*weight\n",
    "    neuron_output += neuron_bias\n",
    "    layer_output.append(round(neuron_output,4))"
   ]
  },
  {
   "cell_type": "code",
   "execution_count": 6,
   "id": "d6fb11f7",
   "metadata": {},
   "outputs": [
    {
     "data": {
      "text/plain": [
       "[4.8, 4.85, 2.385]"
      ]
     },
     "execution_count": 6,
     "metadata": {},
     "output_type": "execute_result"
    }
   ],
   "source": [
    "layer_output"
   ]
  },
  {
   "cell_type": "markdown",
   "id": "74dc44ad",
   "metadata": {},
   "source": [
    "# Using Numpy"
   ]
  },
  {
   "cell_type": "code",
   "execution_count": 7,
   "id": "d18ccf88",
   "metadata": {},
   "outputs": [],
   "source": [
    "import numpy as np"
   ]
  },
  {
   "cell_type": "code",
   "execution_count": 8,
   "id": "7e3f13a5",
   "metadata": {},
   "outputs": [
    {
     "data": {
      "text/plain": [
       "array([4.8  , 4.85 , 2.385])"
      ]
     },
     "execution_count": 8,
     "metadata": {},
     "output_type": "execute_result"
    }
   ],
   "source": [
    "np.dot(Weights, Input) + Bias"
   ]
  },
  {
   "cell_type": "markdown",
   "id": "702cccb9",
   "metadata": {},
   "source": [
    "### np.dot(x,y) != np.dot(y,x) ; x and/or y are/is (a) multidimensional.\n",
    "Gives error"
   ]
  },
  {
   "cell_type": "code",
   "execution_count": 9,
   "id": "40f7c53e",
   "metadata": {},
   "outputs": [
    {
     "ename": "ValueError",
     "evalue": "shapes (4,) and (3,4) not aligned: 4 (dim 0) != 3 (dim 0)",
     "output_type": "error",
     "traceback": [
      "\u001b[0;31m---------------------------------------------------------------------------\u001b[0m",
      "\u001b[0;31mValueError\u001b[0m                                Traceback (most recent call last)",
      "\u001b[0;32m/tmp/ipykernel_175322/1833385776.py\u001b[0m in \u001b[0;36m<module>\u001b[0;34m\u001b[0m\n\u001b[0;32m----> 1\u001b[0;31m \u001b[0mnp\u001b[0m\u001b[0;34m.\u001b[0m\u001b[0mdot\u001b[0m\u001b[0;34m(\u001b[0m\u001b[0mInput\u001b[0m\u001b[0;34m,\u001b[0m\u001b[0mWeights\u001b[0m\u001b[0;34m)\u001b[0m \u001b[0;34m+\u001b[0m \u001b[0mBias\u001b[0m\u001b[0;34m\u001b[0m\u001b[0;34m\u001b[0m\u001b[0m\n\u001b[0m",
      "\u001b[0;32m~/.local/lib/python3.9/site-packages/numpy/core/overrides.py\u001b[0m in \u001b[0;36mdot\u001b[0;34m(*args, **kwargs)\u001b[0m\n",
      "\u001b[0;31mValueError\u001b[0m: shapes (4,) and (3,4) not aligned: 4 (dim 0) != 3 (dim 0)"
     ]
    }
   ],
   "source": [
    "np.dot(Input,Weights) + Bias"
   ]
  },
  {
   "cell_type": "code",
   "execution_count": null,
   "id": "193b6608",
   "metadata": {},
   "outputs": [],
   "source": []
  }
 ],
 "metadata": {
  "kernelspec": {
   "display_name": "Python 3 (ipykernel)",
   "language": "python",
   "name": "python3"
  },
  "language_info": {
   "codemirror_mode": {
    "name": "ipython",
    "version": 3
   },
   "file_extension": ".py",
   "mimetype": "text/x-python",
   "name": "python",
   "nbconvert_exporter": "python",
   "pygments_lexer": "ipython3",
   "version": "3.9.7"
  }
 },
 "nbformat": 4,
 "nbformat_minor": 5
}
