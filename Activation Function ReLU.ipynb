{
 "cells": [
  {
   "cell_type": "code",
   "execution_count": 2,
   "id": "30c12aa2",
   "metadata": {},
   "outputs": [
    {
     "data": {
      "text/plain": [
       "[0, 2, -1, 3.3, -2.7, 1.1, 2.2, -100]"
      ]
     },
     "execution_count": 2,
     "metadata": {},
     "output_type": "execute_result"
    }
   ],
   "source": [
    "inputs = [0,2,-1,3.3,-2.7,1.1,2.2,-100]\n",
    "inputs"
   ]
  },
  {
   "cell_type": "markdown",
   "id": "dee0bd56",
   "metadata": {},
   "source": [
    "##### Using loop"
   ]
  },
  {
   "cell_type": "code",
   "execution_count": 3,
   "id": "b87d411a",
   "metadata": {},
   "outputs": [
    {
     "data": {
      "text/plain": [
       "[0, 2, 0, 3.3, 0, 1.1, 2.2, 0]"
      ]
     },
     "execution_count": 3,
     "metadata": {},
     "output_type": "execute_result"
    }
   ],
   "source": [
    "output1 = []\n",
    "for i in inputs :\n",
    "    if i > 0 :\n",
    "        output1.append(i) \n",
    "    else :\n",
    "        output1.append(0)\n",
    "output1"
   ]
  },
  {
   "cell_type": "markdown",
   "id": "76107b86",
   "metadata": {},
   "source": [
    "###### Using max function (Simplifying the things)"
   ]
  },
  {
   "cell_type": "code",
   "execution_count": 5,
   "id": "8f765980",
   "metadata": {},
   "outputs": [
    {
     "data": {
      "text/plain": [
       "[0, 2, 0, 3.3, 0, 1.1, 2.2, 0]"
      ]
     },
     "execution_count": 5,
     "metadata": {},
     "output_type": "execute_result"
    }
   ],
   "source": [
    "output2 = []\n",
    "for i in inputs :\n",
    "    output2.append(max(0,i))\n",
    "output2"
   ]
  },
  {
   "cell_type": "code",
   "execution_count": null,
   "id": "81c93ec0",
   "metadata": {},
   "outputs": [],
   "source": []
  }
 ],
 "metadata": {
  "kernelspec": {
   "display_name": "Python 3 (ipykernel)",
   "language": "python",
   "name": "python3"
  },
  "language_info": {
   "codemirror_mode": {
    "name": "ipython",
    "version": 3
   },
   "file_extension": ".py",
   "mimetype": "text/x-python",
   "name": "python",
   "nbconvert_exporter": "python",
   "pygments_lexer": "ipython3",
   "version": "3.9.7"
  }
 },
 "nbformat": 4,
 "nbformat_minor": 5
}
